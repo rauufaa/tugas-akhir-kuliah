{
 "cells": [
  {
   "cell_type": "markdown",
   "id": "53e72fae",
   "metadata": {},
   "source": [
    "# This for CPU analysis"
   ]
  },
  {
   "cell_type": "markdown",
   "id": "ff628302",
   "metadata": {},
   "source": [
    "### Do normality test saphiro wilk\n",
    "### Using independent t test for evaluate h0 h1"
   ]
  },
  {
   "cell_type": "code",
   "execution_count": null,
   "id": "60042ef5",
   "metadata": {},
   "outputs": [],
   "source": [
    "import pandas as pd\n",
    "from scipy.stats import shapiro\n",
    "\n",
    "# Load the CSV file\n",
    "data = pd.read_csv('your_file.csv')"
   ]
  }
 ],
 "metadata": {
  "language_info": {
   "name": "python"
  }
 },
 "nbformat": 4,
 "nbformat_minor": 5
}
